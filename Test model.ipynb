{
 "cells": [
  {
   "cell_type": "code",
   "execution_count": 12,
   "id": "90ef9c90",
   "metadata": {},
   "outputs": [],
   "source": [
    "from keras.preprocessing.image import load_img\n",
    "import numpy as np\n",
    "from keras.preprocessing.image import img_to_array\n",
    "from keras.models import load_model\n",
    "from pathlib import Path"
   ]
  },
  {
   "cell_type": "code",
   "execution_count": 22,
   "id": "98cb9aab",
   "metadata": {},
   "outputs": [],
   "source": [
    "def load_image(filename):\n",
    "    img = load_img(filename,grayscale=True,target_size = (28,28))\n",
    "    img = img_to_array(img)\n",
    "    img = img.reshape(1,28,28,1)\n",
    "    img = img.astype(\"float32\")\n",
    "    img = img / 255.0\n",
    "    return img\n",
    "\n"
   ]
  },
  {
   "cell_type": "code",
   "execution_count": 23,
   "id": "f33f000d",
   "metadata": {},
   "outputs": [],
   "source": [
    "def run_example(filename):\n",
    "    img = load_image(filename)\n",
    "    model = load_model(\"final_model.h5\")\n",
    "    predict_value = model.predict(img)\n",
    "    return np.argmax(predict_value)"
   ]
  },
  {
   "cell_type": "code",
   "execution_count": 28,
   "id": "ad15b875",
   "metadata": {},
   "outputs": [],
   "source": [
    "path = \"sample_image.png\""
   ]
  },
  {
   "cell_type": "code",
   "execution_count": 29,
   "id": "de8608f1",
   "metadata": {
    "scrolled": true
   },
   "outputs": [
    {
     "name": "stdout",
     "output_type": "stream",
     "text": [
      "1/1 [==============================] - 0s 48ms/step\n"
     ]
    },
    {
     "data": {
      "text/plain": [
       "7"
      ]
     },
     "execution_count": 29,
     "metadata": {},
     "output_type": "execute_result"
    }
   ],
   "source": [
    "run_example(path)"
   ]
  }
 ],
 "metadata": {
  "kernelspec": {
   "display_name": "Python 3 (ipykernel)",
   "language": "python",
   "name": "python3"
  },
  "language_info": {
   "codemirror_mode": {
    "name": "ipython",
    "version": 3
   },
   "file_extension": ".py",
   "mimetype": "text/x-python",
   "name": "python",
   "nbconvert_exporter": "python",
   "pygments_lexer": "ipython3",
   "version": "3.11.4"
  }
 },
 "nbformat": 4,
 "nbformat_minor": 5
}
